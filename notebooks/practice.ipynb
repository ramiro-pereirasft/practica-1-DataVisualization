{
 "cells": [
  {
   "cell_type": "markdown",
   "metadata": {},
   "source": [
    "# Practica de Visualización\n",
    "\n",
    "Un dataset de NOAA está almacenado en el archivo `data/fb441e62df2d58994928907a91895ec62c2c42e6cd075c2700843b89.csv`. Este es el dataset que utilizaremos para la práctica.\n",
    "\n",
    "Nota: Los datos para esta práctica forman parte de un dataset perteneciente a The data for this assignment comes from a subset of The National Centers for Environmental Information (NCEI) [Daily Global Historical Climatology Network](https://www1.ncdc.noaa.gov/pub/data/ghcn/daily/readme.txt) (GHCN-Daily). El GHCN-Daily se compone de registros climáticos diarios de miles de estaciones de la superficie terrestre en todo el mundo.\n",
    "\n",
    "Cada fila en el archivo de datos corresponde a una sola observación.\n",
    "\n",
    "Nos proporciona las siguientes variables:\n",
    "\n",
    "- **id** : código de identificación de la estación\n",
    "- **date** : fecha en formato YYYY-MM-DD (por ejemplo: 2012-01-24 = 24 de enero de 2012)\n",
    "- **element** : indica el tipo de medición\n",
    "    - **TMAX** : Temperatura máxima\n",
    "    - **TMIN** : Temperatura mínima\n",
    "- **value**: valor de la temperatura (en décimas de grados centígrados)\n",
    "\n",
    "## Indicaciones\n",
    "\n",
    "1. Lee la documentación y familiarícese con el conjunto de datos, luego escriba un código python que arroje un gráfico lineal de las temperaturas máximas y mínimas récord por día del año durante el período 2005-2014. El área entre las temperaturas máximas y mínimas récord de cada día debe estar sombreada.\n",
    "2. Superponga una dispersión de los datos de 2015 para cualquier punto (máximos y mínimos) para los cuales se superó el récord de diez años (2005-2014) máximo o mínimo histórico en 2015.\n",
    "3. Debes tener cuidado con los días bisiestos (es decir, el 29 de febrero), es totalmente razonable eliminar estos puntos del conjunto de datos para esta visualización.\n",
    "4. ¡Haz que la imagen sea agradable! Considera problemas como leyendas, etiquetas y líneas en demasía.\n",
    "\n",
    "Los datos proporcionados están cerca de **Ann Arbor, Michigan, Estados Unidos**."
   ]
  },
  {
   "metadata": {},
   "cell_type": "code",
   "source": [
    "import pandas as pd\n",
    "import matplotlib.pyplot as plt\n",
    "import numpy as np\n",
    "\n"
   ],
   "outputs": [],
   "execution_count": null
  },
  {
   "metadata": {},
   "cell_type": "code",
   "source": [
    "# Armamos el dataframe y ya pasamos date a formato data time\n",
    "df = pd.read_csv(\"../data/fb441e62df2d58994928907a91895ec62c2c42e6cd075c2700843b89.csv\", parse_dates=['Date'])\n"
   ],
   "outputs": [],
   "execution_count": null
  },
  {
   "metadata": {},
   "cell_type": "code",
   "source": [
    "# Eliminamos del df los mes 2 y dia 29 para eliminar los 29 de febrero\n",
    "df = df[~((df['Date'].dt.month == 2) & (df['Date'].dt.day == 29))]"
   ],
   "outputs": [],
   "execution_count": null
  },
  {
   "metadata": {},
   "cell_type": "code",
   "source": [
    "# Pasamos data value a grados celcius dividiendo entre 10\n",
    "df['Data_Value'] = df['Data_Value'] / 10\n"
   ],
   "outputs": [],
   "execution_count": null
  },
  {
   "metadata": {},
   "cell_type": "code",
   "source": [
    "# Creamos columnas auxiliares una con año y otra con mes y dia\n",
    "df['anio'] = df['Date'].dt.year\n",
    "df['mes_dia'] = df['Date'].dt.strftime('%m-%d')\n"
   ],
   "outputs": [],
   "execution_count": null
  },
  {
   "metadata": {},
   "cell_type": "code",
   "source": [
    "# Filtramos el df en los años que nos interesan\n",
    "df_hist = df[(df['anio'] >= 2005) & (df['anio'] <= 2014)].copy()\n",
    "df_2015 = df[df['anio'] == 2015].copy()\n"
   ],
   "outputs": [],
   "execution_count": null
  },
  {
   "metadata": {},
   "cell_type": "code",
   "source": [
    "# Calculamos los records historicos por dia\n",
    "tmax_hist = (df_hist[df_hist['Element'] == 'TMAX']\n",
    "             .groupby('mes_dia')['Data_Value'].max())\n",
    "\n",
    "tmin_hist = (df_hist[df_hist['Element'] == 'TMIN']\n",
    "             .groupby('mes_dia')['Data_Value'].min())\n"
   ],
   "outputs": [],
   "execution_count": null
  },
  {
   "metadata": {},
   "cell_type": "code",
   "source": [
    "# Ahora lo mismo pero con 2015\n",
    "tmax_2015 = (df_2015[df_2015['Element'] == 'TMAX'].groupby('mes_dia')['Data_Value'].max())\n",
    "\n",
    "tmin_2015 = (df_2015[df_2015['Element'] == 'TMIN'].groupby('mes_dia')['Data_Value'].min())\n"
   ],
   "outputs": [],
   "execution_count": null
  },
  {
   "metadata": {},
   "cell_type": "code",
   "source": [
    "# Records rotos en 2015\n",
    "record_max_2015 = tmax_2015[tmax_2015 > tmax_hist]\n",
    "record_min_2015 = tmin_2015[tmin_2015 < tmin_hist]\n"
   ],
   "outputs": [],
   "execution_count": null
  },
  {
   "metadata": {},
   "cell_type": "code",
   "source": [
    "x_all = range(len(tmax_hist))\n",
    "md_list = list(tmax_hist.index)\n",
    "\n",
    "pos_high = [md_list.index(md) for md in record_max_2015.index]\n",
    "pos_low = [md_list.index(md) for md in record_min_2015.index]\n",
    "\n",
    "tmax_hist_c = tmax_hist.values / 10\n",
    "tmin_hist_c = tmin_hist.values / 10\n",
    "record_max_c = record_max_2015.values / 10\n",
    "record_min_c = record_min_2015.values / 10\n",
    "\n",
    "#Por seguridad, asegurar orden (mín <= máx) antes de sombrear\n",
    "upper = np.maximum(tmax_hist_c, tmin_hist_c)\n",
    "lower = np.minimum(tmax_hist_c, tmin_hist_c)\n"
   ],
   "outputs": [],
   "execution_count": null
  },
  {
   "metadata": {},
   "cell_type": "code",
   "outputs": [],
   "execution_count": null,
   "source": [
    "#Gráfico\n",
    "plt.figure(figsize=(13, 8))\n",
    "\n",
    "#Sombreado entre mínimos y máximos históricos\n",
    "plt.fill_between(x_all, upper, lower,\n",
    "                 alpha=0.35, color='darkgrey',\n",
    "                 label='Rango histórico 2005–2014')\n",
    "\n",
    "#Línea de máximos históricos\n",
    "plt.plot(x_all, tmax_hist_c, color='r', marker='+', markersize=4,\n",
    "         label='Máximos históricos (2005–2014)')\n",
    "\n",
    "#Línea de mínimos históricos\n",
    "plt.plot(x_all, tmin_hist_c, color='b', marker='+', markersize=4,\n",
    "         label='Mínimos históricos (2005–2014)')\n",
    "\n",
    "#Puntos 2015 que baten récords\n",
    "plt.scatter(pos_high, rec_max_c, marker='o', color=\"red\", label='Nuevos máximos 2015')\n",
    "plt.scatter(pos_low, rec_min_c, marker='o', color=\"blue\", label='Nuevos mínimos 2015')\n",
    "\n",
    "#Etiquetas y leyenda\n",
    "plt.title('Récords diarios de temperatura cerca de Ann Arbor, MI (2005–2014 vs 2015)')\n",
    "plt.xlabel('Días del año')\n",
    "plt.ylabel('Temperatura (°C)')\n",
    "plt.legend()\n",
    "plt.grid(alpha=0.3, linestyle='--')\n",
    "\n",
    "plt.tight_layout()\n",
    "plt.show()"
   ]
  }
 ],
 "metadata": {
  "kernelspec": {
   "display_name": "Python 3",
   "language": "python",
   "name": "python3"
  },
  "language_info": {
   "codemirror_mode": {
    "name": "ipython",
    "version": 3
   },
   "file_extension": ".py",
   "mimetype": "text/x-python",
   "name": "python",
   "nbconvert_exporter": "python",
   "pygments_lexer": "ipython3",
   "version": "3.6.2"
  }
 },
 "nbformat": 4,
 "nbformat_minor": 1
}
