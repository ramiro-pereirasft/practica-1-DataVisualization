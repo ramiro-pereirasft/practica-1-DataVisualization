{
 "cells": [
  {
   "cell_type": "markdown",
   "metadata": {},
   "source": [
    "# Practica de Visualización\n",
    "\n",
    "Un dataset de NOAA está almacenado en el archivo `data/fb441e62df2d58994928907a91895ec62c2c42e6cd075c2700843b89.csv`. Este es el dataset que utilizaremos para la práctica.\n",
    "\n",
    "Nota: Los datos para esta práctica forman parte de un dataset perteneciente a The data for this assignment comes from a subset of The National Centers for Environmental Information (NCEI) [Daily Global Historical Climatology Network](https://www1.ncdc.noaa.gov/pub/data/ghcn/daily/readme.txt) (GHCN-Daily). El GHCN-Daily se compone de registros climáticos diarios de miles de estaciones de la superficie terrestre en todo el mundo.\n",
    "\n",
    "Cada fila en el archivo de datos corresponde a una sola observación.\n",
    "\n",
    "Nos proporciona las siguientes variables:\n",
    "\n",
    "- **id** : código de identificación de la estación\n",
    "- **date** : fecha en formato YYYY-MM-DD (por ejemplo: 2012-01-24 = 24 de enero de 2012)\n",
    "- **element** : indica el tipo de medición\n",
    "    - **TMAX** : Temperatura máxima\n",
    "    - **TMIN** : Temperatura mínima\n",
    "- **value**: valor de la temperatura (en décimas de grados centígrados)\n",
    "\n",
    "## Indicaciones\n",
    "\n",
    "1. Lee la documentación y familiarícese con el conjunto de datos, luego escriba un código python que arroje un gráfico lineal de las temperaturas máximas y mínimas récord por día del año durante el período 2005-2014. El área entre las temperaturas máximas y mínimas récord de cada día debe estar sombreada.\n",
    "2. Superponga una dispersión de los datos de 2015 para cualquier punto (máximos y mínimos) para los cuales se superó el récord de diez años (2005-2014) máximo o mínimo histórico en 2015.\n",
    "3. Debes tener cuidado con los días bisiestos (es decir, el 29 de febrero), es totalmente razonable eliminar estos puntos del conjunto de datos para esta visualización.\n",
    "4. ¡Haz que la imagen sea agradable! Considera problemas como leyendas, etiquetas y líneas en demasía.\n",
    "\n",
    "Los datos proporcionados están cerca de **Ann Arbor, Michigan, Estados Unidos**."
   ]
  },
  {
   "metadata": {
    "ExecuteTime": {
     "end_time": "2025-10-24T20:48:32.584856Z",
     "start_time": "2025-10-24T20:48:31.835726Z"
    }
   },
   "cell_type": "code",
   "source": [
    "import pandas as pd\n",
    "import matplotlib.pyplot as plt\n",
    "\n",
    "df= pd.read_csv(\"../data/fb441e62df2d58994928907a91895ec62c2c42e6cd075c2700843b89.csv\")\n",
    "# Mostrar para verificar que se cargó bien\n",
    "df.head()"
   ],
   "outputs": [
    {
     "data": {
      "text/plain": [
       "            ID        Date Element  Data_Value\n",
       "0  USW00094889  2014-11-12    TMAX          22\n",
       "1  USC00208972  2009-04-29    TMIN          56\n",
       "2  USC00200032  2008-05-26    TMAX         278\n",
       "3  USC00205563  2005-11-11    TMAX         139\n",
       "4  USC00200230  2014-02-27    TMAX        -106"
      ],
      "text/html": [
       "<div>\n",
       "<style scoped>\n",
       "    .dataframe tbody tr th:only-of-type {\n",
       "        vertical-align: middle;\n",
       "    }\n",
       "\n",
       "    .dataframe tbody tr th {\n",
       "        vertical-align: top;\n",
       "    }\n",
       "\n",
       "    .dataframe thead th {\n",
       "        text-align: right;\n",
       "    }\n",
       "</style>\n",
       "<table border=\"1\" class=\"dataframe\">\n",
       "  <thead>\n",
       "    <tr style=\"text-align: right;\">\n",
       "      <th></th>\n",
       "      <th>ID</th>\n",
       "      <th>Date</th>\n",
       "      <th>Element</th>\n",
       "      <th>Data_Value</th>\n",
       "    </tr>\n",
       "  </thead>\n",
       "  <tbody>\n",
       "    <tr>\n",
       "      <th>0</th>\n",
       "      <td>USW00094889</td>\n",
       "      <td>2014-11-12</td>\n",
       "      <td>TMAX</td>\n",
       "      <td>22</td>\n",
       "    </tr>\n",
       "    <tr>\n",
       "      <th>1</th>\n",
       "      <td>USC00208972</td>\n",
       "      <td>2009-04-29</td>\n",
       "      <td>TMIN</td>\n",
       "      <td>56</td>\n",
       "    </tr>\n",
       "    <tr>\n",
       "      <th>2</th>\n",
       "      <td>USC00200032</td>\n",
       "      <td>2008-05-26</td>\n",
       "      <td>TMAX</td>\n",
       "      <td>278</td>\n",
       "    </tr>\n",
       "    <tr>\n",
       "      <th>3</th>\n",
       "      <td>USC00205563</td>\n",
       "      <td>2005-11-11</td>\n",
       "      <td>TMAX</td>\n",
       "      <td>139</td>\n",
       "    </tr>\n",
       "    <tr>\n",
       "      <th>4</th>\n",
       "      <td>USC00200230</td>\n",
       "      <td>2014-02-27</td>\n",
       "      <td>TMAX</td>\n",
       "      <td>-106</td>\n",
       "    </tr>\n",
       "  </tbody>\n",
       "</table>\n",
       "</div>"
      ]
     },
     "execution_count": 5,
     "metadata": {},
     "output_type": "execute_result"
    }
   ],
   "execution_count": 5
  },
  {
   "metadata": {},
   "cell_type": "markdown",
   "source": "#objetivo: Eliminar 29 de febrero (día bisiesto)\n"
  },
  {
   "metadata": {
    "ExecuteTime": {
     "end_time": "2025-10-24T20:53:25.804290Z",
     "start_time": "2025-10-24T20:53:25.516007Z"
    }
   },
   "cell_type": "code",
   "source": [
    "df = df[~df['Date'].str.endswith('02-29')]\n",
    "\n",
    "#corroborar que haya quedado correctamente eliminado\n",
    "df[df['Date'].str.endswith('02-29')]\n"
   ],
   "outputs": [
    {
     "data": {
      "text/plain": [
       "array(['2005-01-01', '2005-01-02', '2005-01-03', '2005-01-04',\n",
       "       '2005-01-05', '2005-01-06', '2005-01-07', '2005-01-08',\n",
       "       '2005-01-09', '2005-01-10'], dtype=object)"
      ]
     },
     "execution_count": 12,
     "metadata": {},
     "output_type": "execute_result"
    }
   ],
   "execution_count": 12
  },
  {
   "metadata": {
    "ExecuteTime": {
     "end_time": "2025-10-24T21:23:51.448476Z",
     "start_time": "2025-10-24T21:23:50.980612Z"
    }
   },
   "cell_type": "code",
   "source": [
    "# convertimos Date a tipo datetime\n",
    "df['Date'] = pd.to_datetime(df['Date'])"
   ],
   "outputs": [],
   "execution_count": 16
  },
  {
   "metadata": {
    "ExecuteTime": {
     "end_time": "2025-10-24T21:23:54.768485Z",
     "start_time": "2025-10-24T21:23:53.025250Z"
    }
   },
   "cell_type": "code",
   "source": [
    "# creamos una columna solo con mes y día, sin año\n",
    "df['Month-Day'] = df['Date'].dt.strftime('%m-%d')"
   ],
   "outputs": [],
   "execution_count": 17
  },
  {
   "metadata": {
    "ExecuteTime": {
     "end_time": "2025-10-24T21:24:31.531919Z",
     "start_time": "2025-10-24T21:24:31.396426Z"
    }
   },
   "cell_type": "code",
   "source": [
    "# Convertir los valores de décimas a grados celsius\n",
    "df['Data_Value'] = df['Data_Value'] / 10\n",
    "\n",
    "# Separar máximas y mínimas\n",
    "tmax = df[df['Element'] == 'TMAX']\n",
    "tmin = df[df['Element'] == 'TMIN']\n"
   ],
   "outputs": [],
   "execution_count": 18
  },
  {
   "metadata": {
    "ExecuteTime": {
     "end_time": "2025-10-24T21:25:30.895045Z",
     "start_time": "2025-10-24T21:25:30.861457Z"
    }
   },
   "cell_type": "code",
   "source": [
    "# Agrupar por 'Month-Day' y tomar el récord (max y min)\n",
    "tmax_grouped = tmax.groupby('Month-Day')['Data_Value'].max()\n",
    "tmin_grouped = tmin.groupby('Month-Day')['Data_Value'].min()\n"
   ],
   "outputs": [],
   "execution_count": 21
  }
 ],
 "metadata": {
  "kernelspec": {
   "display_name": "Python 3",
   "language": "python",
   "name": "python3"
  },
  "language_info": {
   "codemirror_mode": {
    "name": "ipython",
    "version": 3
   },
   "file_extension": ".py",
   "mimetype": "text/x-python",
   "name": "python",
   "nbconvert_exporter": "python",
   "pygments_lexer": "ipython3",
   "version": "3.6.2"
  }
 },
 "nbformat": 4,
 "nbformat_minor": 1
}
